{
  "nbformat": 4,
  "nbformat_minor": 0,
  "metadata": {
    "kernelspec": {
      "name": "python3",
      "display_name": "Python 3"
    },
    "colab": {
      "name": "elmo_vectors_sentiment.ipynb",
      "provenance": [],
      "collapsed_sections": []
    }
  },
  "cells": [
    {
      "cell_type": "code",
      "metadata": {
        "id": "zEA_0Oqo0TcE",
        "outputId": "0991b29b-78fe-4570-9dc7-1b8c147a06c2",
        "colab": {
          "base_uri": "https://localhost:8080/",
          "height": 56
        }
      },
      "source": [
        "%tensorflow_version 1.x\n",
        "import pandas as pd\n",
        "import numpy as np\n",
        "import spacy\n",
        "from tqdm import tqdm\n",
        "import re\n",
        "import time\n",
        "import pickle\n",
        "pd.set_option('display.max_colwidth', 200)\n",
        "import tensorflow_hub as hub\n",
        "import tensorflow as tf \n",
        "print(tf.__version__) # use 1.15 version for elmo\n",
        "\n",
        "# load spacy's language model to lemmatize later on\n",
        "nlp = spacy.load('en', disable=['parser', 'ner'])"
      ],
      "execution_count": null,
      "outputs": [
        {
          "output_type": "stream",
          "text": [
            "TensorFlow 1.x selected.\n",
            "1.15.2\n"
          ],
          "name": "stdout"
        }
      ]
    },
    {
      "cell_type": "code",
      "metadata": {
        "id": "ZIn8fads0XN1",
        "outputId": "7001e644-11b9-4359-95a3-6e7d3bd4040d",
        "colab": {
          "base_uri": "https://localhost:8080/",
          "height": 36
        }
      },
      "source": [
        "from google.colab import drive\n",
        "drive.mount('/content/drive')"
      ],
      "execution_count": null,
      "outputs": [
        {
          "output_type": "stream",
          "text": [
            "Drive already mounted at /content/drive; to attempt to forcibly remount, call drive.mount(\"/content/drive\", force_remount=True).\n"
          ],
          "name": "stdout"
        }
      ]
    },
    {
      "cell_type": "code",
      "metadata": {
        "id": "ggUnUG-L0TcS"
      },
      "source": [
        "# load elmo\n",
        "elmo = hub.Module(\"https://tfhub.dev/google/elmo/2\", trainable=True)\n"
      ],
      "execution_count": null,
      "outputs": []
    },
    {
      "cell_type": "code",
      "metadata": {
        "id": "7ow5Rrh70Tcf"
      },
      "source": [
        "# read train and test data: columns: id, (label), tweet\n",
        "train = pd.read_csv(\"/content/drive/My Drive/machine_learning/data_tweet_sentiment/train_tweets.csv\")\n",
        "test = pd.read_csv(\"/content/drive/My Drive/machine_learning/data_tweet_sentiment/test_tweets.csv\")\n"
      ],
      "execution_count": null,
      "outputs": []
    },
    {
      "cell_type": "code",
      "metadata": {
        "id": "Lyr8umBb0Tcn",
        "outputId": "4b6ae371-6b15-4d6e-aa3d-7e30c04e9a62",
        "colab": {
          "base_uri": "https://localhost:8080/",
          "height": 423
        }
      },
      "source": [
        "# check shape + content of training set\n",
        "train.shape\n",
        "train\n"
      ],
      "execution_count": null,
      "outputs": [
        {
          "output_type": "execute_result",
          "data": {
            "text/html": [
              "<div>\n",
              "<style scoped>\n",
              "    .dataframe tbody tr th:only-of-type {\n",
              "        vertical-align: middle;\n",
              "    }\n",
              "\n",
              "    .dataframe tbody tr th {\n",
              "        vertical-align: top;\n",
              "    }\n",
              "\n",
              "    .dataframe thead th {\n",
              "        text-align: right;\n",
              "    }\n",
              "</style>\n",
              "<table border=\"1\" class=\"dataframe\">\n",
              "  <thead>\n",
              "    <tr style=\"text-align: right;\">\n",
              "      <th></th>\n",
              "      <th>id</th>\n",
              "      <th>label</th>\n",
              "      <th>tweet</th>\n",
              "    </tr>\n",
              "  </thead>\n",
              "  <tbody>\n",
              "    <tr>\n",
              "      <th>0</th>\n",
              "      <td>1</td>\n",
              "      <td>0</td>\n",
              "      <td>#fingerprint #Pregnancy Test https://goo.gl/h1MfQV #android #apps #beautiful #cute #health #igers #iphoneonly #iphonesia #iphone</td>\n",
              "    </tr>\n",
              "    <tr>\n",
              "      <th>1</th>\n",
              "      <td>2</td>\n",
              "      <td>0</td>\n",
              "      <td>Finally a transparant silicon case ^^ Thanks to my uncle :) #yay #Sony #Xperia #S #sonyexperias… http://instagram.com/p/YGEt5JC6JM/</td>\n",
              "    </tr>\n",
              "    <tr>\n",
              "      <th>2</th>\n",
              "      <td>3</td>\n",
              "      <td>0</td>\n",
              "      <td>We love this! Would you go? #talk #makememories #unplug #relax #iphone #smartphone #wifi #connect... http://fb.me/6N3LsUpCu</td>\n",
              "    </tr>\n",
              "    <tr>\n",
              "      <th>3</th>\n",
              "      <td>4</td>\n",
              "      <td>0</td>\n",
              "      <td>I'm wired I know I'm George I was made that way ;) #iphone #cute #daventry #home http://instagr.am/p/Li_5_ujS4k/</td>\n",
              "    </tr>\n",
              "    <tr>\n",
              "      <th>4</th>\n",
              "      <td>5</td>\n",
              "      <td>1</td>\n",
              "      <td>What amazing service! Apple won't even talk to me about a question I have unless I pay them $19.95 for their stupid support!</td>\n",
              "    </tr>\n",
              "    <tr>\n",
              "      <th>...</th>\n",
              "      <td>...</td>\n",
              "      <td>...</td>\n",
              "      <td>...</td>\n",
              "    </tr>\n",
              "    <tr>\n",
              "      <th>7915</th>\n",
              "      <td>7916</td>\n",
              "      <td>0</td>\n",
              "      <td>Live out loud #lol #liveoutloud #selfie #smile #sony #music #headphones https://instagram.com/p/5spiNsJ_c9/</td>\n",
              "    </tr>\n",
              "    <tr>\n",
              "      <th>7916</th>\n",
              "      <td>7917</td>\n",
              "      <td>0</td>\n",
              "      <td>We would like to wish you an amazing day! Make every minute count #tls #today #iphone #accessories #news #life February 23, 2017 at 0…</td>\n",
              "    </tr>\n",
              "    <tr>\n",
              "      <th>7917</th>\n",
              "      <td>7918</td>\n",
              "      <td>0</td>\n",
              "      <td>Helping my lovely 90 year old neighbor with her iPad this morning has just made me realise that 'I' don't actually need an I pad!</td>\n",
              "    </tr>\n",
              "    <tr>\n",
              "      <th>7918</th>\n",
              "      <td>7919</td>\n",
              "      <td>0</td>\n",
              "      <td>Finally got my #smart #pocket #wifi stay connected anytime,anywhere! #ipad and #samsung #s3 #gadget # http://instagr.am/p/U-53G_vJU8/</td>\n",
              "    </tr>\n",
              "    <tr>\n",
              "      <th>7919</th>\n",
              "      <td>7920</td>\n",
              "      <td>0</td>\n",
              "      <td>Apple Barcelona!!! #Apple #Store #BCN #Barcelona #travel #iphone #selfie #fly #fun #cabincrew… http://instagram.com/p/wBApVzpCl3/</td>\n",
              "    </tr>\n",
              "  </tbody>\n",
              "</table>\n",
              "<p>7920 rows × 3 columns</p>\n",
              "</div>"
            ],
            "text/plain": [
              "        id  ...                                                                                                                                   tweet\n",
              "0        1  ...        #fingerprint #Pregnancy Test https://goo.gl/h1MfQV #android #apps #beautiful #cute #health #igers #iphoneonly #iphonesia #iphone\n",
              "1        2  ...     Finally a transparant silicon case ^^ Thanks to my uncle :) #yay #Sony #Xperia #S #sonyexperias… http://instagram.com/p/YGEt5JC6JM/\n",
              "2        3  ...             We love this! Would you go? #talk #makememories #unplug #relax #iphone #smartphone #wifi #connect... http://fb.me/6N3LsUpCu\n",
              "3        4  ...                        I'm wired I know I'm George I was made that way ;) #iphone #cute #daventry #home http://instagr.am/p/Li_5_ujS4k/\n",
              "4        5  ...            What amazing service! Apple won't even talk to me about a question I have unless I pay them $19.95 for their stupid support!\n",
              "...    ...  ...                                                                                                                                     ...\n",
              "7915  7916  ...                             Live out loud #lol #liveoutloud #selfie #smile #sony #music #headphones https://instagram.com/p/5spiNsJ_c9/\n",
              "7916  7917  ...  We would like to wish you an amazing day! Make every minute count #tls #today #iphone #accessories #news #life February 23, 2017 at 0…\n",
              "7917  7918  ...       Helping my lovely 90 year old neighbor with her iPad this morning has just made me realise that 'I' don't actually need an I pad!\n",
              "7918  7919  ...   Finally got my #smart #pocket #wifi stay connected anytime,anywhere! #ipad and #samsung #s3 #gadget # http://instagr.am/p/U-53G_vJU8/\n",
              "7919  7920  ...       Apple Barcelona!!! #Apple #Store #BCN #Barcelona #travel #iphone #selfie #fly #fun #cabincrew… http://instagram.com/p/wBApVzpCl3/\n",
              "\n",
              "[7920 rows x 3 columns]"
            ]
          },
          "metadata": {
            "tags": []
          },
          "execution_count": 7
        }
      ]
    },
    {
      "cell_type": "code",
      "metadata": {
        "id": "mqjJvGaH0Tcu",
        "outputId": "4ba7c401-9f13-4b6d-c8bd-1c389d7cea4a",
        "colab": {
          "base_uri": "https://localhost:8080/",
          "height": 75
        }
      },
      "source": [
        "# check class distribution: return a series containing counts of relative frequencies of the labels\n",
        "train['label'].value_counts(normalize = True)"
      ],
      "execution_count": null,
      "outputs": [
        {
          "output_type": "execute_result",
          "data": {
            "text/plain": [
              "0    0.744192\n",
              "1    0.255808\n",
              "Name: label, dtype: float64"
            ]
          },
          "metadata": {
            "tags": []
          },
          "execution_count": 8
        }
      ]
    },
    {
      "cell_type": "code",
      "metadata": {
        "id": "zmD1bnL00Tc4"
      },
      "source": [
        "# make Cleaner class\n",
        "class Cleaner:\n",
        "    def __init__(self, df_row):\n",
        "        self.df_row = df_row\n",
        "        \n",
        "    # remove URL links\n",
        "    def remove_url(self):\n",
        "        no_url = re.sub(r'http\\S+', '', self.df_row) # re: remove http + non-white-space character\n",
        "        return no_url # string\n",
        "    \n",
        "    # remove everything that is not whitespace or word character + lower words\n",
        "    def remove_punct(self):\n",
        "        no_punct = re.sub(r'[^\\w\\s]','',self.df_row.lower()) \n",
        "        return no_punct\n",
        "    \n",
        "    # remove numbers \n",
        "    def remove_nums(self):\n",
        "        no_nums = re.sub('[0-9]', \"\", self.df_row)\n",
        "        return no_nums # string\n",
        "    \n",
        "    # remove whitespace\n",
        "    def remove_whitespace(self):\n",
        "        no_whitespace = self.df_row.strip()\n",
        "        return no_whitespace # string\n",
        "    \n",
        "    # normalize text by lemmatizing\n",
        "    def lemmatize(self):\n",
        "        # get lemma, keep pronouns\n",
        "        doc = [token.lemma_ if token.lemma_ != '-PRON-' else token.orth_ for token in nlp(self.df_row)] \n",
        "        lemmas = ' '.join(doc)\n",
        "        return lemmas\n",
        "        \n",
        "        \n",
        "        "
      ],
      "execution_count": null,
      "outputs": []
    },
    {
      "cell_type": "code",
      "metadata": {
        "id": "B1ZsQLtq0TdA"
      },
      "source": [
        "# apply Cleaner class methods to train and test set\n",
        "\n",
        "train['clean_tweet'] = train['tweet'].apply(lambda row: Cleaner(row).remove_url())\n",
        "train['clean_tweet'] = train['clean_tweet'].apply(lambda row: Cleaner(row).remove_punct())\n",
        "train['clean_tweet'] = train['clean_tweet'].apply(lambda row: Cleaner(row).remove_nums())\n",
        "train['clean_tweet'] = train['clean_tweet'].apply(lambda row: Cleaner(row).remove_whitespace())\n",
        "train['clean_tweet'] = train['clean_tweet'].apply(lambda row: Cleaner(row).lemmatize())\n",
        "\n",
        "test['clean_tweet'] = test['tweet'].apply(lambda row: Cleaner(row).remove_url())\n",
        "test['clean_tweet'] = test['clean_tweet'].apply(lambda row: Cleaner(row).remove_punct())\n",
        "test['clean_tweet'] = test['clean_tweet'].apply(lambda row: Cleaner(row).remove_nums())\n",
        "test['clean_tweet'] = test['clean_tweet'].apply(lambda row: Cleaner(row).remove_whitespace())\n",
        "test['clean_tweet'] = test['clean_tweet'].apply(lambda row: Cleaner(row).lemmatize())"
      ],
      "execution_count": null,
      "outputs": []
    },
    {
      "cell_type": "code",
      "metadata": {
        "id": "D1S2aKgg0TdG",
        "outputId": "c6e22fdc-1a67-44be-cbc5-7f552219e735",
        "colab": {
          "base_uri": "https://localhost:8080/",
          "height": 597
        }
      },
      "source": [
        "# check if methods were applied right\n",
        "train"
      ],
      "execution_count": null,
      "outputs": [
        {
          "output_type": "execute_result",
          "data": {
            "text/html": [
              "<div>\n",
              "<style scoped>\n",
              "    .dataframe tbody tr th:only-of-type {\n",
              "        vertical-align: middle;\n",
              "    }\n",
              "\n",
              "    .dataframe tbody tr th {\n",
              "        vertical-align: top;\n",
              "    }\n",
              "\n",
              "    .dataframe thead th {\n",
              "        text-align: right;\n",
              "    }\n",
              "</style>\n",
              "<table border=\"1\" class=\"dataframe\">\n",
              "  <thead>\n",
              "    <tr style=\"text-align: right;\">\n",
              "      <th></th>\n",
              "      <th>id</th>\n",
              "      <th>label</th>\n",
              "      <th>tweet</th>\n",
              "      <th>clean_tweet</th>\n",
              "    </tr>\n",
              "  </thead>\n",
              "  <tbody>\n",
              "    <tr>\n",
              "      <th>0</th>\n",
              "      <td>1</td>\n",
              "      <td>0</td>\n",
              "      <td>#fingerprint #Pregnancy Test https://goo.gl/h1MfQV #android #apps #beautiful #cute #health #igers #iphoneonly #iphonesia #iphone</td>\n",
              "      <td>fingerprint pregnancy test   android app beautiful cute health iger iphoneonly iphonesia iphone</td>\n",
              "    </tr>\n",
              "    <tr>\n",
              "      <th>1</th>\n",
              "      <td>2</td>\n",
              "      <td>0</td>\n",
              "      <td>Finally a transparant silicon case ^^ Thanks to my uncle :) #yay #Sony #Xperia #S #sonyexperias… http://instagram.com/p/YGEt5JC6JM/</td>\n",
              "      <td>finally a transparant silicon case   thank to my uncle   yay sony xperia s sonyexperias</td>\n",
              "    </tr>\n",
              "    <tr>\n",
              "      <th>2</th>\n",
              "      <td>3</td>\n",
              "      <td>0</td>\n",
              "      <td>We love this! Would you go? #talk #makememories #unplug #relax #iphone #smartphone #wifi #connect... http://fb.me/6N3LsUpCu</td>\n",
              "      <td>we love this would you go talk makememorie unplug relax iphone smartphone wifi connect</td>\n",
              "    </tr>\n",
              "    <tr>\n",
              "      <th>3</th>\n",
              "      <td>4</td>\n",
              "      <td>0</td>\n",
              "      <td>I'm wired I know I'm George I was made that way ;) #iphone #cute #daventry #home http://instagr.am/p/Li_5_ujS4k/</td>\n",
              "      <td>i be wire i know i be george i be make that way   iphone cute daventry home</td>\n",
              "    </tr>\n",
              "    <tr>\n",
              "      <th>4</th>\n",
              "      <td>5</td>\n",
              "      <td>1</td>\n",
              "      <td>What amazing service! Apple won't even talk to me about a question I have unless I pay them $19.95 for their stupid support!</td>\n",
              "      <td>what amazing service apple will not even talk to me about a question i have unless i pay them   for their stupid support</td>\n",
              "    </tr>\n",
              "    <tr>\n",
              "      <th>...</th>\n",
              "      <td>...</td>\n",
              "      <td>...</td>\n",
              "      <td>...</td>\n",
              "      <td>...</td>\n",
              "    </tr>\n",
              "    <tr>\n",
              "      <th>7915</th>\n",
              "      <td>7916</td>\n",
              "      <td>0</td>\n",
              "      <td>Live out loud #lol #liveoutloud #selfie #smile #sony #music #headphones https://instagram.com/p/5spiNsJ_c9/</td>\n",
              "      <td>live out loud lol liveoutloud selfie smile sony music headphone</td>\n",
              "    </tr>\n",
              "    <tr>\n",
              "      <th>7916</th>\n",
              "      <td>7917</td>\n",
              "      <td>0</td>\n",
              "      <td>We would like to wish you an amazing day! Make every minute count #tls #today #iphone #accessories #news #life February 23, 2017 at 0…</td>\n",
              "      <td>we would like to wish you an amazing day make every minute count tls today iphone accessory news life february    at</td>\n",
              "    </tr>\n",
              "    <tr>\n",
              "      <th>7917</th>\n",
              "      <td>7918</td>\n",
              "      <td>0</td>\n",
              "      <td>Helping my lovely 90 year old neighbor with her iPad this morning has just made me realise that 'I' don't actually need an I pad!</td>\n",
              "      <td>help my lovely   year old neighbor with her ipad this morning have just make me realise that i do not actually need an i pad</td>\n",
              "    </tr>\n",
              "    <tr>\n",
              "      <th>7918</th>\n",
              "      <td>7919</td>\n",
              "      <td>0</td>\n",
              "      <td>Finally got my #smart #pocket #wifi stay connected anytime,anywhere! #ipad and #samsung #s3 #gadget # http://instagr.am/p/U-53G_vJU8/</td>\n",
              "      <td>finally get my smart pocket wifi stay connected anytimeanywhere ipad and samsung s gadget</td>\n",
              "    </tr>\n",
              "    <tr>\n",
              "      <th>7919</th>\n",
              "      <td>7920</td>\n",
              "      <td>0</td>\n",
              "      <td>Apple Barcelona!!! #Apple #Store #BCN #Barcelona #travel #iphone #selfie #fly #fun #cabincrew… http://instagram.com/p/wBApVzpCl3/</td>\n",
              "      <td>apple barcelona apple store bcn barcelona travel iphone selfie fly fun cabincrew</td>\n",
              "    </tr>\n",
              "  </tbody>\n",
              "</table>\n",
              "<p>7920 rows × 4 columns</p>\n",
              "</div>"
            ],
            "text/plain": [
              "        id  ...                                                                                                                   clean_tweet\n",
              "0        1  ...                               fingerprint pregnancy test   android app beautiful cute health iger iphoneonly iphonesia iphone\n",
              "1        2  ...                                       finally a transparant silicon case   thank to my uncle   yay sony xperia s sonyexperias\n",
              "2        3  ...                                        we love this would you go talk makememorie unplug relax iphone smartphone wifi connect\n",
              "3        4  ...                                                   i be wire i know i be george i be make that way   iphone cute daventry home\n",
              "4        5  ...      what amazing service apple will not even talk to me about a question i have unless i pay them   for their stupid support\n",
              "...    ...  ...                                                                                                                           ...\n",
              "7915  7916  ...                                                               live out loud lol liveoutloud selfie smile sony music headphone\n",
              "7916  7917  ...          we would like to wish you an amazing day make every minute count tls today iphone accessory news life february    at\n",
              "7917  7918  ...  help my lovely   year old neighbor with her ipad this morning have just make me realise that i do not actually need an i pad\n",
              "7918  7919  ...                                     finally get my smart pocket wifi stay connected anytimeanywhere ipad and samsung s gadget\n",
              "7919  7920  ...                                              apple barcelona apple store bcn barcelona travel iphone selfie fly fun cabincrew\n",
              "\n",
              "[7920 rows x 4 columns]"
            ]
          },
          "metadata": {
            "tags": []
          },
          "execution_count": 12
        }
      ]
    },
    {
      "cell_type": "code",
      "metadata": {
        "id": "cVVw7jVB0TdM"
      },
      "source": [
        "# to not waste too much memory, get word embeddings in batches and not in one go\n",
        "# split train and test set into batches of 100 samples each, store them in lists\n",
        "\n",
        "# split data into chunks of 100 from start to end in steps of 100\n",
        "list_train = [train[i:i+100]for i in range(0,train.shape[0], 100)] \n",
        "list_test = [test[i:i+100] for i in range(0,test.shape[0],100)]"
      ],
      "execution_count": null,
      "outputs": []
    },
    {
      "cell_type": "code",
      "metadata": {
        "id": "WcLglBHt0TdS"
      },
      "source": [
        "# create vectors\n",
        "\n",
        "def get_elmo_vectors(x):\n",
        "  \n",
        "  # convert series(tweet) to list\n",
        "  # default: the module takes untokenized sentences as input\n",
        "  # elmo: the weighted sum of the 3 layers, where the weights are trainable\n",
        "  embeddings = elmo(x.tolist(), signature=\"default\", as_dict=True)[\"elmo\"]\n",
        "    \n",
        " # initialize session with variables \n",
        "  with tf.Session() as sess:\n",
        "    sess.run(tf.global_variables_initializer())\n",
        "    sess.run(tf.tables_initializer())\n",
        "    \n",
        "    # return average of elmo features\n",
        "    return sess.run(tf.reduce_mean(embeddings,1))\n",
        "\n"
      ],
      "execution_count": null,
      "outputs": []
    },
    {
      "cell_type": "code",
      "metadata": {
        "id": "UsqjweAB0TdY"
      },
      "source": [
        "# get elmo embeddings\n",
        "elmo_train = [get_elmo_vectors(x['clean_tweet']) for x in list_train]\n",
        "elmo_test = [get_elmo_vectors(x['clean_tweet']) for x in list_test]\n"
      ],
      "execution_count": null,
      "outputs": []
    },
    {
      "cell_type": "code",
      "metadata": {
        "id": "HrEG_8bB5DSF"
      },
      "source": [
        "# concatenate back into single array\n",
        "elmo_train_array = np.concatenate(elmo_train, axis = 0)\n",
        "elmo_test_array = np.concatenate(elmo_test, axis = 0)"
      ],
      "execution_count": null,
      "outputs": []
    },
    {
      "cell_type": "code",
      "metadata": {
        "id": "hR60Hud6Awiy"
      },
      "source": [
        "# save the vectors as pickle-files\n",
        "pickle_train = open(\"elmo_train.pickle\",\"wb\")\n",
        "pickle.dump(elmo_train_array, pickle_train)\n",
        "pickle_train.close()\n",
        "\n",
        "\n",
        "pickle_test = open(\"elmo_test.pickle\",\"wb\")\n",
        "pickle.dump(elmo_test_array, pickle_test)\n",
        "pickle_test.close()"
      ],
      "execution_count": null,
      "outputs": []
    }
  ]
}