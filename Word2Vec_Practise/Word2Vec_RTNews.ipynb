{
 "cells": [
  {
   "cell_type": "code",
   "execution_count": 2,
   "metadata": {},
   "outputs": [],
   "source": [
    "import pandas as pd\n",
    "from gensim.models.word2vec import Word2Vec"
   ]
  },
  {
   "cell_type": "code",
   "execution_count": 3,
   "metadata": {},
   "outputs": [
    {
     "data": {
      "text/html": [
       "<div>\n",
       "<style scoped>\n",
       "    .dataframe tbody tr th:only-of-type {\n",
       "        vertical-align: middle;\n",
       "    }\n",
       "\n",
       "    .dataframe tbody tr th {\n",
       "        vertical-align: top;\n",
       "    }\n",
       "\n",
       "    .dataframe thead th {\n",
       "        text-align: right;\n",
       "    }\n",
       "</style>\n",
       "<table border=\"1\" class=\"dataframe\">\n",
       "  <thead>\n",
       "    <tr style=\"text-align: right;\">\n",
       "      <th></th>\n",
       "      <th>Headline</th>\n",
       "      <th>Date</th>\n",
       "      <th>category</th>\n",
       "      <th>Word count</th>\n",
       "      <th>Article: No Stopwords</th>\n",
       "      <th>Lemmas</th>\n",
       "      <th>BoW</th>\n",
       "    </tr>\n",
       "  </thead>\n",
       "  <tbody>\n",
       "    <tr>\n",
       "      <th>0</th>\n",
       "      <td>Ukrainischer Kleriker warnt vor den Schweinere...</td>\n",
       "      <td>2020-09-28 06:45:00</td>\n",
       "      <td>gesellschaft</td>\n",
       "      <td>8</td>\n",
       "      <td>[Ukrainischer, Kleriker, warnt, Schweinereien,...</td>\n",
       "      <td>[Ukrainischer, Kleriker, warnen, Schweinerei, ...</td>\n",
       "      <td>{'Ukrainischer': 1, 'Kleriker': 1, 'warnen': 1...</td>\n",
       "    </tr>\n",
       "    <tr>\n",
       "      <th>1</th>\n",
       "      <td>Der MagnetKünstler Kleben und kleben lassen Video</td>\n",
       "      <td>2020-09-27 19:55:00</td>\n",
       "      <td>gesellschaft</td>\n",
       "      <td>7</td>\n",
       "      <td>[MagnetKünstler, Kleben, kleben, lassen, Video]</td>\n",
       "      <td>[MagnetKünstler, Kleben, kleben, lassen, Video]</td>\n",
       "      <td>{'MagnetKünstler': 1, 'Kleben': 1, 'kleben': 1...</td>\n",
       "    </tr>\n",
       "    <tr>\n",
       "      <th>2</th>\n",
       "      <td>Es grünt Guccis GärtnerJeans mit Grasflecken f...</td>\n",
       "      <td>2020-09-26 16:55:00</td>\n",
       "      <td>gesellschaft</td>\n",
       "      <td>15</td>\n",
       "      <td>[grünt, Guccis, GärtnerJeans, Grasflecken, kna...</td>\n",
       "      <td>[grünt, Guccis, GärtnerJeans, Grasflecken, kna...</td>\n",
       "      <td>{'grünt': 1, 'Guccis': 1, 'GärtnerJeans': 1, '...</td>\n",
       "    </tr>\n",
       "    <tr>\n",
       "      <th>3</th>\n",
       "      <td>Chef des Weltwirtschaftsforums Neoliberalismus...</td>\n",
       "      <td>2020-09-26 16:20:00</td>\n",
       "      <td>gesellschaft</td>\n",
       "      <td>8</td>\n",
       "      <td>[Chef, Weltwirtschaftsforums, Neoliberalismus,...</td>\n",
       "      <td>[Chef, Weltwirtschaftsforums, Neoliberalismus,...</td>\n",
       "      <td>{'Chef': 1, 'Weltwirtschaftsforums': 1, 'Neoli...</td>\n",
       "    </tr>\n",
       "    <tr>\n",
       "      <th>4</th>\n",
       "      <td>Umstrittene Maßnahme Absichtliche CoronaInfekt...</td>\n",
       "      <td>2020-09-26 09:41:00</td>\n",
       "      <td>gesellschaft</td>\n",
       "      <td>9</td>\n",
       "      <td>[Umstrittene, Maßnahme, Absichtliche, CoronaIn...</td>\n",
       "      <td>[Umstrittene, Maßnahme, Absichtliche, CoronaIn...</td>\n",
       "      <td>{'Umstrittene': 1, 'Maßnahme': 1, 'Absichtlich...</td>\n",
       "    </tr>\n",
       "    <tr>\n",
       "      <th>...</th>\n",
       "      <td>...</td>\n",
       "      <td>...</td>\n",
       "      <td>...</td>\n",
       "      <td>...</td>\n",
       "      <td>...</td>\n",
       "      <td>...</td>\n",
       "      <td>...</td>\n",
       "    </tr>\n",
       "    <tr>\n",
       "      <th>8561</th>\n",
       "      <td>Nordmazedonien und Griechenland erhalten Gas a...</td>\n",
       "      <td>2020-01-07 06:30:00</td>\n",
       "      <td>wirtschaft</td>\n",
       "      <td>10</td>\n",
       "      <td>[Nordmazedonien, Griechenland, erhalten, Gas, ...</td>\n",
       "      <td>[Nordmazedonien, Griechenland, erhalten, Gas, ...</td>\n",
       "      <td>{'Nordmazedonien': 1, 'Griechenland': 1, 'erha...</td>\n",
       "    </tr>\n",
       "    <tr>\n",
       "      <th>8562</th>\n",
       "      <td>Paris Finanzminister warnt USA vor Vergeltung ...</td>\n",
       "      <td>2020-01-06 09:52:00</td>\n",
       "      <td>wirtschaft</td>\n",
       "      <td>11</td>\n",
       "      <td>[Paris, Finanzminister, warnt, USA, Vergeltung...</td>\n",
       "      <td>[Paris, Finanzminister, warnen, USA, Vergeltun...</td>\n",
       "      <td>{'Paris': 1, 'Finanzminister': 1, 'warnen': 1,...</td>\n",
       "    </tr>\n",
       "    <tr>\n",
       "      <th>8563</th>\n",
       "      <td>USMordanschlag auf iranischen General setzt Fi...</td>\n",
       "      <td>2020-01-03 21:34:00</td>\n",
       "      <td>wirtschaft</td>\n",
       "      <td>8</td>\n",
       "      <td>[USMordanschlag, iranischen, General, setzt, F...</td>\n",
       "      <td>[USMordanschlag, iranisch, General, setzen, Fi...</td>\n",
       "      <td>{'USMordanschlag': 1, 'iranisch': 1, 'General'...</td>\n",
       "    </tr>\n",
       "    <tr>\n",
       "      <th>8564</th>\n",
       "      <td>Indien wird Deutschland als viertgrößte Volksw...</td>\n",
       "      <td>2020-01-03 06:15:00</td>\n",
       "      <td>wirtschaft</td>\n",
       "      <td>11</td>\n",
       "      <td>[Indien, Deutschland, viertgrößte, Volkswirtsc...</td>\n",
       "      <td>[Indien, Deutschland, viertgrößte, Volkswirtsc...</td>\n",
       "      <td>{'Indien': 1, 'Deutschland': 1, 'viertgrößte':...</td>\n",
       "    </tr>\n",
       "    <tr>\n",
       "      <th>8565</th>\n",
       "      <td>Indien Huawei wird gegen USEmpfehlung zu 5GFel...</td>\n",
       "      <td>2020-01-02 06:30:00</td>\n",
       "      <td>wirtschaft</td>\n",
       "      <td>8</td>\n",
       "      <td>[Indien, Huawei, USEmpfehlung, 5GFeldversuchen...</td>\n",
       "      <td>[Indien, Huawei, USEmpfehlung, 5GFeldversuchen...</td>\n",
       "      <td>{'Indien': 1, 'Huawei': 1, 'USEmpfehlung': 1, ...</td>\n",
       "    </tr>\n",
       "  </tbody>\n",
       "</table>\n",
       "<p>4580 rows × 7 columns</p>\n",
       "</div>"
      ],
      "text/plain": [
       "                                               Headline                Date  \\\n",
       "0     Ukrainischer Kleriker warnt vor den Schweinere... 2020-09-28 06:45:00   \n",
       "1     Der MagnetKünstler Kleben und kleben lassen Video 2020-09-27 19:55:00   \n",
       "2     Es grünt Guccis GärtnerJeans mit Grasflecken f... 2020-09-26 16:55:00   \n",
       "3     Chef des Weltwirtschaftsforums Neoliberalismus... 2020-09-26 16:20:00   \n",
       "4     Umstrittene Maßnahme Absichtliche CoronaInfekt... 2020-09-26 09:41:00   \n",
       "...                                                 ...                 ...   \n",
       "8561  Nordmazedonien und Griechenland erhalten Gas a... 2020-01-07 06:30:00   \n",
       "8562  Paris Finanzminister warnt USA vor Vergeltung ... 2020-01-06 09:52:00   \n",
       "8563  USMordanschlag auf iranischen General setzt Fi... 2020-01-03 21:34:00   \n",
       "8564  Indien wird Deutschland als viertgrößte Volksw... 2020-01-03 06:15:00   \n",
       "8565  Indien Huawei wird gegen USEmpfehlung zu 5GFel... 2020-01-02 06:30:00   \n",
       "\n",
       "          category  Word count  \\\n",
       "0     gesellschaft           8   \n",
       "1     gesellschaft           7   \n",
       "2     gesellschaft          15   \n",
       "3     gesellschaft           8   \n",
       "4     gesellschaft           9   \n",
       "...            ...         ...   \n",
       "8561    wirtschaft          10   \n",
       "8562    wirtschaft          11   \n",
       "8563    wirtschaft           8   \n",
       "8564    wirtschaft          11   \n",
       "8565    wirtschaft           8   \n",
       "\n",
       "                                  Article: No Stopwords  \\\n",
       "0     [Ukrainischer, Kleriker, warnt, Schweinereien,...   \n",
       "1       [MagnetKünstler, Kleben, kleben, lassen, Video]   \n",
       "2     [grünt, Guccis, GärtnerJeans, Grasflecken, kna...   \n",
       "3     [Chef, Weltwirtschaftsforums, Neoliberalismus,...   \n",
       "4     [Umstrittene, Maßnahme, Absichtliche, CoronaIn...   \n",
       "...                                                 ...   \n",
       "8561  [Nordmazedonien, Griechenland, erhalten, Gas, ...   \n",
       "8562  [Paris, Finanzminister, warnt, USA, Vergeltung...   \n",
       "8563  [USMordanschlag, iranischen, General, setzt, F...   \n",
       "8564  [Indien, Deutschland, viertgrößte, Volkswirtsc...   \n",
       "8565  [Indien, Huawei, USEmpfehlung, 5GFeldversuchen...   \n",
       "\n",
       "                                                 Lemmas  \\\n",
       "0     [Ukrainischer, Kleriker, warnen, Schweinerei, ...   \n",
       "1       [MagnetKünstler, Kleben, kleben, lassen, Video]   \n",
       "2     [grünt, Guccis, GärtnerJeans, Grasflecken, kna...   \n",
       "3     [Chef, Weltwirtschaftsforums, Neoliberalismus,...   \n",
       "4     [Umstrittene, Maßnahme, Absichtliche, CoronaIn...   \n",
       "...                                                 ...   \n",
       "8561  [Nordmazedonien, Griechenland, erhalten, Gas, ...   \n",
       "8562  [Paris, Finanzminister, warnen, USA, Vergeltun...   \n",
       "8563  [USMordanschlag, iranisch, General, setzen, Fi...   \n",
       "8564  [Indien, Deutschland, viertgrößte, Volkswirtsc...   \n",
       "8565  [Indien, Huawei, USEmpfehlung, 5GFeldversuchen...   \n",
       "\n",
       "                                                    BoW  \n",
       "0     {'Ukrainischer': 1, 'Kleriker': 1, 'warnen': 1...  \n",
       "1     {'MagnetKünstler': 1, 'Kleben': 1, 'kleben': 1...  \n",
       "2     {'grünt': 1, 'Guccis': 1, 'GärtnerJeans': 1, '...  \n",
       "3     {'Chef': 1, 'Weltwirtschaftsforums': 1, 'Neoli...  \n",
       "4     {'Umstrittene': 1, 'Maßnahme': 1, 'Absichtlich...  \n",
       "...                                                 ...  \n",
       "8561  {'Nordmazedonien': 1, 'Griechenland': 1, 'erha...  \n",
       "8562  {'Paris': 1, 'Finanzminister': 1, 'warnen': 1,...  \n",
       "8563  {'USMordanschlag': 1, 'iranisch': 1, 'General'...  \n",
       "8564  {'Indien': 1, 'Deutschland': 1, 'viertgrößte':...  \n",
       "8565  {'Indien': 1, 'Huawei': 1, 'USEmpfehlung': 1, ...  \n",
       "\n",
       "[4580 rows x 7 columns]"
      ]
     },
     "execution_count": 3,
     "metadata": {},
     "output_type": "execute_result"
    }
   ],
   "source": [
    "# load data\n",
    "df = pd.read_pickle(\"./df_2020.pkl\")\n",
    "df"
   ]
  },
  {
   "cell_type": "code",
   "execution_count": 4,
   "metadata": {},
   "outputs": [],
   "source": [
    "#preprocess sentences \n",
    "def pre_process(df_data):\n",
    "    df_data = [word.lower() for word in df_data] #lower\n",
    "    for word in df_data:\n",
    "        if word == 'video':  # remove 'video'\n",
    "            df_data.remove(word)\n",
    "    return df_data\n",
    "\n",
    "# apply function\n",
    "df['Article: No Stopwords'] = df['Article: No Stopwords'].apply(lambda row: pre_process(row))\n",
    "       \n",
    "# convert into list of lists of tokens \n",
    "tokens = df['Article: No Stopwords'].to_list()\n"
   ]
  },
  {
   "cell_type": "code",
   "execution_count": 5,
   "metadata": {},
   "outputs": [],
   "source": [
    "# generate own word vector representations\n",
    "num_features = 300 # number of dimensions to represent the word vector\n",
    "min_word_count = 3 # large corpus = increse min word count to be considered\n",
    "num_workers = 2 # number of CPU cores to be used\n",
    "window_size = 6 # context window size\n",
    "subsampling = 1e-3 # subsampling rate of frequent terms\n",
    "\n",
    "\n",
    "# train\n",
    "model = Word2Vec(tokens, workers=num_workers, size=num_features, min_count=min_word_count, \n",
    "                 window=window_size, \n",
    "                 sample=subsampling)\n",
    "\n",
    "\n",
    "# init_sims freezes model, discards unnecessary, uneeded output weights\n",
    "# only stores hidden layer weights\n",
    "model.init_sims(replace=True)\n",
    "\n",
    "# save model\n",
    "model_name = \"RT_News_model\"\n",
    "model.save(model_name)\n"
   ]
  },
  {
   "cell_type": "code",
   "execution_count": 6,
   "metadata": {},
   "outputs": [],
   "source": [
    "# load saved domain-specific word2vec model\n",
    "model_name = \"RT_News_model\"\n",
    "model = Word2Vec.load(model_name)\n"
   ]
  },
  {
   "cell_type": "code",
   "execution_count": 7,
   "metadata": {},
   "outputs": [
    {
     "name": "stderr",
     "output_type": "stream",
     "text": [
      "<ipython-input-7-5a25c1854c2b>:2: DeprecationWarning: Call to deprecated `most_similar` (Method will be removed in 4.0.0, use self.wv.most_similar() instead).\n",
      "  model.most_similar(positive=['italien'], topn=10)\n"
     ]
    },
    {
     "data": {
      "text/plain": [
       "[('russland', 0.851146936416626),\n",
       " ('usa', 0.8505241870880127),\n",
       " ('polizei', 0.8380656242370605),\n",
       " ('mehr', 0.8371245265007019),\n",
       " ('wegen', 0.8310774564743042),\n",
       " ('coronakrise', 0.8260030150413513),\n",
       " ('ab', 0.8243602514266968),\n",
       " ('millionen', 0.8232160806655884),\n",
       " ('china', 0.8230593800544739),\n",
       " ('neue', 0.8106922507286072)]"
      ]
     },
     "execution_count": 7,
     "metadata": {},
     "output_type": "execute_result"
    }
   ],
   "source": [
    "# show most similar words to a word\n",
    "model.most_similar(positive=['italien'], topn=10)"
   ]
  },
  {
   "cell_type": "code",
   "execution_count": 8,
   "metadata": {},
   "outputs": [
    {
     "name": "stderr",
     "output_type": "stream",
     "text": [
      "<ipython-input-8-09043c860f7e>:2: DeprecationWarning: Call to deprecated `doesnt_match` (Method will be removed in 4.0.0, use self.wv.doesnt_match() instead).\n",
      "  model.doesnt_match(\"merkel putin trump virus\".split())\n",
      "/home/tina/anaconda3/lib/python3.8/site-packages/gensim/models/keyedvectors.py:877: FutureWarning: arrays to stack must be passed as a \"sequence\" type such as list or tuple. Support for non-sequence iterables such as generators is deprecated as of NumPy 1.16 and will raise an error in the future.\n",
      "  vectors = vstack(self.word_vec(word, use_norm=True) for word in used_words).astype(REAL)\n"
     ]
    },
    {
     "data": {
      "text/plain": [
       "'virus'"
      ]
     },
     "execution_count": 8,
     "metadata": {},
     "output_type": "execute_result"
    }
   ],
   "source": [
    "# which word does not match\n",
    "model.doesnt_match(\"merkel putin trump virus\".split())"
   ]
  },
  {
   "cell_type": "code",
   "execution_count": 9,
   "metadata": {},
   "outputs": [
    {
     "name": "stderr",
     "output_type": "stream",
     "text": [
      "<ipython-input-9-cf58ee20fc65>:2: DeprecationWarning: Call to deprecated `similarity` (Method will be removed in 4.0.0, use self.wv.similarity() instead).\n",
      "  model.similarity('merkel', 'regierung')\n"
     ]
    },
    {
     "data": {
      "text/plain": [
       "0.76613784"
      ]
     },
     "execution_count": 9,
     "metadata": {},
     "output_type": "execute_result"
    }
   ],
   "source": [
    "# show similarity of two terms\n",
    "model.similarity('merkel', 'regierung')"
   ]
  }
 ],
 "metadata": {
  "kernelspec": {
   "display_name": "Python 3",
   "language": "python",
   "name": "python3"
  },
  "language_info": {
   "codemirror_mode": {
    "name": "ipython",
    "version": 3
   },
   "file_extension": ".py",
   "mimetype": "text/x-python",
   "name": "python",
   "nbconvert_exporter": "python",
   "pygments_lexer": "ipython3",
   "version": "3.8.3"
  }
 },
 "nbformat": 4,
 "nbformat_minor": 4
}
